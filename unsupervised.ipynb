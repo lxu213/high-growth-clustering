{
 "cells": [
  {
   "cell_type": "markdown",
   "metadata": {},
   "source": [
    "### Introduction\n",
    "\n",
    "This project attempts to identify high growth merchants using unlabeled transaction data. The methodology will use unsupervised learning using k-means clustering and feature engineering. The dataset contains 1 year of merchant transaction data. "
   ]
  },
  {
   "cell_type": "code",
   "execution_count": 11,
   "metadata": {
    "collapsed": false
   },
   "outputs": [],
   "source": [
    "import numpy as np\n",
    "import pandas as pd\n",
    "import matplotlib.pyplot as plt\n",
    "import seaborn as sns\n",
    "import datetime\n",
    "from sklearn.decomposition import PCA\n",
    "from sklearn.cluster import KMeans\n",
    "import pylab as pl\n",
    "\n",
    "%matplotlib inline"
   ]
  },
  {
   "cell_type": "markdown",
   "metadata": {},
   "source": [
    "### Import Data "
   ]
  },
  {
   "cell_type": "code",
   "execution_count": 2,
   "metadata": {
    "collapsed": false
   },
   "outputs": [
    {
     "data": {
      "text/html": [
       "<div>\n",
       "<style scoped>\n",
       "    .dataframe tbody tr th:only-of-type {\n",
       "        vertical-align: middle;\n",
       "    }\n",
       "\n",
       "    .dataframe tbody tr th {\n",
       "        vertical-align: top;\n",
       "    }\n",
       "\n",
       "    .dataframe thead th {\n",
       "        text-align: right;\n",
       "    }\n",
       "</style>\n",
       "<table border=\"1\" class=\"dataframe\">\n",
       "  <thead>\n",
       "    <tr style=\"text-align: right;\">\n",
       "      <th></th>\n",
       "      <th>user</th>\n",
       "      <th>time</th>\n",
       "      <th>cents</th>\n",
       "      <th>dollars</th>\n",
       "      <th>month_yr</th>\n",
       "    </tr>\n",
       "  </thead>\n",
       "  <tbody>\n",
       "    <tr>\n",
       "      <th>0</th>\n",
       "      <td>00038f0484334ac047449166cfbbf6452b31c85c</td>\n",
       "      <td>2016-02-19 23:39:56.925</td>\n",
       "      <td>1203</td>\n",
       "      <td>12.03</td>\n",
       "      <td>2016-02-01</td>\n",
       "    </tr>\n",
       "    <tr>\n",
       "      <th>1</th>\n",
       "      <td>00038f0484334ac047449166cfbbf6452b31c85c</td>\n",
       "      <td>2016-02-19 23:41:47.026</td>\n",
       "      <td>1203</td>\n",
       "      <td>12.03</td>\n",
       "      <td>2016-02-01</td>\n",
       "    </tr>\n",
       "    <tr>\n",
       "      <th>2</th>\n",
       "      <td>00038f0484334ac047449166cfbbf6452b31c85c</td>\n",
       "      <td>2016-02-23 15:19:54.836</td>\n",
       "      <td>2405</td>\n",
       "      <td>24.05</td>\n",
       "      <td>2016-02-01</td>\n",
       "    </tr>\n",
       "    <tr>\n",
       "      <th>3</th>\n",
       "      <td>00038f0484334ac047449166cfbbf6452b31c85c</td>\n",
       "      <td>2016-02-23 15:21:08.273</td>\n",
       "      <td>2405</td>\n",
       "      <td>24.05</td>\n",
       "      <td>2016-02-01</td>\n",
       "    </tr>\n",
       "    <tr>\n",
       "      <th>4</th>\n",
       "      <td>00038f0484334ac047449166cfbbf6452b31c85c</td>\n",
       "      <td>2016-02-24 15:19:39.386</td>\n",
       "      <td>1203</td>\n",
       "      <td>12.03</td>\n",
       "      <td>2016-02-01</td>\n",
       "    </tr>\n",
       "  </tbody>\n",
       "</table>\n",
       "</div>"
      ],
      "text/plain": [
       "                                       user                    time  cents  \\\n",
       "0  00038f0484334ac047449166cfbbf6452b31c85c 2016-02-19 23:39:56.925   1203   \n",
       "1  00038f0484334ac047449166cfbbf6452b31c85c 2016-02-19 23:41:47.026   1203   \n",
       "2  00038f0484334ac047449166cfbbf6452b31c85c 2016-02-23 15:19:54.836   2405   \n",
       "3  00038f0484334ac047449166cfbbf6452b31c85c 2016-02-23 15:21:08.273   2405   \n",
       "4  00038f0484334ac047449166cfbbf6452b31c85c 2016-02-24 15:19:39.386   1203   \n",
       "\n",
       "   dollars   month_yr  \n",
       "0    12.03 2016-02-01  \n",
       "1    12.03 2016-02-01  \n",
       "2    24.05 2016-02-01  \n",
       "3    24.05 2016-02-01  \n",
       "4    12.03 2016-02-01  "
      ]
     },
     "execution_count": 2,
     "metadata": {},
     "output_type": "execute_result"
    }
   ],
   "source": [
    "data = pd.read_csv('data.csv', parse_dates=['time'])\n",
    "data = data.rename(columns={'amount_in_cents': 'cents'})\n",
    "data['dollars'] = (data['cents'] / 100)\n",
    "data['month_yr'] = data['time'].apply(lambda x: datetime.datetime(year=x.year, month=x.month, day=1))     \n",
    "data.head() "
   ]
  },
  {
   "cell_type": "markdown",
   "metadata": {},
   "source": [
    "Create dataframe of monthly transaction amounts to better visualize transaction trajectory over 1-year of users who may be classified as high growth."
   ]
  },
  {
   "cell_type": "code",
   "execution_count": 175,
   "metadata": {
    "collapsed": false
   },
   "outputs": [
    {
     "data": {
      "text/html": [
       "<div>\n",
       "<style scoped>\n",
       "    .dataframe tbody tr th:only-of-type {\n",
       "        vertical-align: middle;\n",
       "    }\n",
       "\n",
       "    .dataframe tbody tr th {\n",
       "        vertical-align: top;\n",
       "    }\n",
       "\n",
       "    .dataframe thead th {\n",
       "        text-align: right;\n",
       "    }\n",
       "</style>\n",
       "<table border=\"1\" class=\"dataframe\">\n",
       "  <thead>\n",
       "    <tr style=\"text-align: right;\">\n",
       "      <th></th>\n",
       "      <th>user</th>\n",
       "      <th>month_yr_x_x</th>\n",
       "      <th>trans_amt</th>\n",
       "      <th>month_yr_y</th>\n",
       "      <th>diff</th>\n",
       "      <th>month_yr_x_y</th>\n",
       "      <th>month_count</th>\n",
       "      <th>ln_trans_amt</th>\n",
       "    </tr>\n",
       "  </thead>\n",
       "  <tbody>\n",
       "    <tr>\n",
       "      <th>0</th>\n",
       "      <td>00038f0484334ac047449166cfbbf6452b31c85c</td>\n",
       "      <td>2016-02-01</td>\n",
       "      <td>350.00</td>\n",
       "      <td>4</td>\n",
       "      <td>-1706.71</td>\n",
       "      <td>2016-02-01</td>\n",
       "      <td>0.0</td>\n",
       "      <td>5.857933</td>\n",
       "    </tr>\n",
       "    <tr>\n",
       "      <th>1</th>\n",
       "      <td>00038f0484334ac047449166cfbbf6452b31c85c</td>\n",
       "      <td>2016-03-01</td>\n",
       "      <td>2056.71</td>\n",
       "      <td>4</td>\n",
       "      <td>-5131.37</td>\n",
       "      <td>2016-02-01</td>\n",
       "      <td>29.0</td>\n",
       "      <td>7.628863</td>\n",
       "    </tr>\n",
       "    <tr>\n",
       "      <th>2</th>\n",
       "      <td>00038f0484334ac047449166cfbbf6452b31c85c</td>\n",
       "      <td>2016-04-01</td>\n",
       "      <td>7188.08</td>\n",
       "      <td>4</td>\n",
       "      <td>6989.64</td>\n",
       "      <td>2016-02-01</td>\n",
       "      <td>60.0</td>\n",
       "      <td>8.880179</td>\n",
       "    </tr>\n",
       "    <tr>\n",
       "      <th>3</th>\n",
       "      <td>00038f0484334ac047449166cfbbf6452b31c85c</td>\n",
       "      <td>2016-05-01</td>\n",
       "      <td>198.44</td>\n",
       "      <td>4</td>\n",
       "      <td>107.04</td>\n",
       "      <td>2016-02-01</td>\n",
       "      <td>90.0</td>\n",
       "      <td>5.290487</td>\n",
       "    </tr>\n",
       "    <tr>\n",
       "      <th>4</th>\n",
       "      <td>0012a74e2bb1ab0073b2e18532e87474b6b7cfca</td>\n",
       "      <td>2016-11-01</td>\n",
       "      <td>91.40</td>\n",
       "      <td>1</td>\n",
       "      <td>67.35</td>\n",
       "      <td>2016-11-01</td>\n",
       "      <td>0.0</td>\n",
       "      <td>4.515245</td>\n",
       "    </tr>\n",
       "  </tbody>\n",
       "</table>\n",
       "</div>"
      ],
      "text/plain": [
       "                                       user month_yr_x_x  trans_amt  \\\n",
       "0  00038f0484334ac047449166cfbbf6452b31c85c   2016-02-01     350.00   \n",
       "1  00038f0484334ac047449166cfbbf6452b31c85c   2016-03-01    2056.71   \n",
       "2  00038f0484334ac047449166cfbbf6452b31c85c   2016-04-01    7188.08   \n",
       "3  00038f0484334ac047449166cfbbf6452b31c85c   2016-05-01     198.44   \n",
       "4  0012a74e2bb1ab0073b2e18532e87474b6b7cfca   2016-11-01      91.40   \n",
       "\n",
       "   month_yr_y     diff month_yr_x_y  month_count  ln_trans_amt  \n",
       "0           4 -1706.71   2016-02-01          0.0      5.857933  \n",
       "1           4 -5131.37   2016-02-01         29.0      7.628863  \n",
       "2           4  6989.64   2016-02-01         60.0      8.880179  \n",
       "3           4   107.04   2016-02-01         90.0      5.290487  \n",
       "4           1    67.35   2016-11-01          0.0      4.515245  "
      ]
     },
     "execution_count": 175,
     "metadata": {},
     "output_type": "execute_result"
    }
   ],
   "source": [
    "# monthly transaction amount by user\n",
    "monthly_data = data[['user', 'month_yr']].drop_duplicates()\n",
    "grouped = data['dollars'].groupby([data['user'], data['month_yr']]).sum()\n",
    "monthly_data['trans_amt'] = grouped.values\n",
    "count_df = monthly_data.groupby('user')['month_yr'].count().reset_index()\n",
    "monthly_data = monthly_data.merge(count_df, on=['user'], how='left')\n",
    "\n",
    "# TODO fix: growth calculation should be grouped by user \n",
    "monthly_data['diff'] = monthly_data['trans_amt'] - monthly_data['trans_amt'].shift(-1)\n",
    "monthly_data.head()"
   ]
  },
  {
   "cell_type": "code",
   "execution_count": 153,
   "metadata": {
    "collapsed": false
   },
   "outputs": [],
   "source": [
    "# month transformation: plot by time from user sign-up\n",
    "init_month = monthly_data['month_yr_x'].groupby(monthly_data['user']).min().reset_index()\n",
    "monthly_data = monthly_data.merge(init_month, on=['user'], how='left')\n",
    "monthly_data['month_count'] = monthly_data['month_yr_x_x'] - monthly_data['month_yr_x_y']\n",
    "monthly_data['month_count'] = monthly_data['month_count'].astype(int)/86400000000000\n"
   ]
  },
  {
   "cell_type": "code",
   "execution_count": 386,
   "metadata": {
    "collapsed": false
   },
   "outputs": [
    {
     "name": "stdout",
     "output_type": "stream",
     "text": [
      "1524710\n",
      "6521\n",
      "1518189\n"
     ]
    }
   ],
   "source": [
    "print len(data)                            # total transactions\n",
    "print len(data.loc[data['dollars']==0])    # transactions of $0 value\n",
    "data = data.loc[data['dollars']!=0]\n",
    "print len(data)                            # transactions without 0 values"
   ]
  },
  {
   "cell_type": "markdown",
   "metadata": {},
   "source": [
    "### Visualizations"
   ]
  },
  {
   "cell_type": "code",
   "execution_count": 385,
   "metadata": {
    "collapsed": false
   },
   "outputs": [
    {
     "data": {
      "image/png": "[encoded data removed]",
      "text/plain": [
       "<matplotlib.figure.Figure at 0x16a524750>"
      ]
     },
     "metadata": {},
     "output_type": "display_data"
    }
   ],
   "source": [
    "# plotted by month since sign-up, only include users with 12 mon activity\n",
    "\n",
    "plotting_data = monthly_data.loc[monthly_data['month_yr_y']>11]\n",
    "sns.set(style='ticks')\n",
    "\n",
    "# hue_order=_users,  \n",
    "fg = sns.FacetGrid(data=plotting_data, hue='user', aspect=4)\n",
    "fg.map(plt.scatter, 'month_yr_x', 'trans_amt').add_legend(); "
   ]
  },
  {
   "cell_type": "markdown",
   "metadata": {},
   "source": [
    "Histogram of individual transaction $ amounts."
   ]
  },
  {
   "cell_type": "code",
   "execution_count": 182,
   "metadata": {
    "collapsed": false
   },
   "outputs": [
    {
     "data": {
      "image/png": "[encoded data removed]",
      "text/plain": [
       "<matplotlib.figure.Figure at 0x182a613d0>"
      ]
     },
     "metadata": {},
     "output_type": "display_data"
    }
   ],
   "source": [
    "# histogram of transaction amounts\n",
    "plt.figure(figsize=(10,3))\n",
    "ax = plt.gca()\n",
    "plt.hist(data['dollars'], bins=5000)\n",
    "plt.xlabel('Dollar Amount ($)')\n",
    "plt.ylabel('Frequency')\n",
    "plt.title('Histogram of Transaction Amounts')\n",
    "ax.set_xlim(0, 500)\n",
    "plt.show();"
   ]
  },
  {
   "cell_type": "code",
   "execution_count": 217,
   "metadata": {
    "collapsed": false
   },
   "outputs": [],
   "source": [
    "user_list = user_data['user'].loc[user_data['count'] > 2000]\n",
    "top_users = user_data.loc[user_data['count'] > 2000]\n",
    "top_users.head()"
   ]
  },
  {
   "cell_type": "markdown",
   "metadata": {},
   "source": [
    "Total transaction amount by user. "
   ]
  },
  {
   "cell_type": "code",
   "execution_count": 228,
   "metadata": {
    "collapsed": false
   },
   "outputs": [
    {
     "data": {
      "image/png": "[encoded data removed]",
      "text/plain": [
       "<matplotlib.figure.Figure at 0x1687cffd0>"
      ]
     },
     "metadata": {},
     "output_type": "display_data"
    }
   ],
   "source": [
    "# total transaction amount\n",
    "plt.figure(figsize=(10,3))\n",
    "ax = plt.gca()\n",
    "plt.hist(user_data['tot_trans_amt'], bins=10000)\n",
    "plt.xlabel('Total Transaction Amount')\n",
    "plt.ylabel('Frequency')\n",
    "plt.title('Total Transaction Amount')\n",
    "ax.set_ylim(0, 500)\n",
    "ax.set_xlim(0, 100000)\n",
    "plt.show();"
   ]
  },
  {
   "cell_type": "code",
   "execution_count": 224,
   "metadata": {
    "collapsed": false
   },
   "outputs": [
    {
     "data": {
      "image/png": "[encoded data removed]",
      "text/plain": [
       "<matplotlib.figure.Figure at 0x1553aafd0>"
      ]
     },
     "metadata": {},
     "output_type": "display_data"
    }
   ],
   "source": [
    "# transaction volume\n",
    "# most users use app for less than 10 transactions (assign category=1 if also signed up early)\n",
    "plt.figure(figsize=(10,3))\n",
    "ax = plt.gca()\n",
    "plt.hist(user_data['count'], bins=10000)\n",
    "plt.xlabel('Total Transactions')\n",
    "plt.ylabel('Frequency')\n",
    "plt.title('Transaction Volume')\n",
    "ax.set_xlim(0, 200)\n",
    "plt.show();"
   ]
  },
  {
   "cell_type": "markdown",
   "metadata": {},
   "source": [
    "Activity throughout entire year of record is an important indicator of users who are already/may become high priority users. "
   ]
  },
  {
   "cell_type": "code",
   "execution_count": 223,
   "metadata": {
    "collapsed": false
   },
   "outputs": [
    {
     "data": {
      "image/png": "[encoded data removed]",
      "text/plain": [
       "<matplotlib.figure.Figure at 0x1553aa6d0>"
      ]
     },
     "metadata": {},
     "output_type": "display_data"
    }
   ],
   "source": [
    "# days active\n",
    "plt.figure(figsize=(10,3))\n",
    "ax = plt.gca()\n",
    "plt.hist(user_data['days_active'], bins=100)\n",
    "plt.xlabel('Days Active')\n",
    "plt.ylabel('Frequency')\n",
    "plt.title('Total Days Active')\n",
    "ax.set_ylim(0, 500)\n",
    "plt.show();"
   ]
  },
  {
   "cell_type": "markdown",
   "metadata": {},
   "source": [
    "### Feature Engineering\n",
    "\n",
    "Build user-level dataframe including features that may be useful for selecting high growth users for training, such as:\n",
    "\n",
    "1. Days Active: were they active throughout the entire 1 year period of record\n",
    "2. Volume of Transactions: differentiate between users with a few transactions and users with ongoing transactions\n",
    "3. Total Dollar Value of Transactions\n",
    "4. Growth Indicator: derivative by month of whether or not transaction volume/amount increases or decreases"
   ]
  },
  {
   "cell_type": "code",
   "execution_count": 5,
   "metadata": {
    "collapsed": false
   },
   "outputs": [
    {
     "data": {
      "text/html": [
       "<div>\n",
       "<style scoped>\n",
       "    .dataframe tbody tr th:only-of-type {\n",
       "        vertical-align: middle;\n",
       "    }\n",
       "\n",
       "    .dataframe tbody tr th {\n",
       "        vertical-align: top;\n",
       "    }\n",
       "\n",
       "    .dataframe thead th {\n",
       "        text-align: right;\n",
       "    }\n",
       "</style>\n",
       "<table border=\"1\" class=\"dataframe\">\n",
       "  <thead>\n",
       "    <tr style=\"text-align: right;\">\n",
       "      <th></th>\n",
       "      <th>user</th>\n",
       "      <th>count</th>\n",
       "      <th>first_trans_time</th>\n",
       "      <th>last_trans_time</th>\n",
       "      <th>avg_trans_amt</th>\n",
       "      <th>tot_trans_amt</th>\n",
       "      <th>days_active</th>\n",
       "      <th>trans_per_day</th>\n",
       "      <th>amt_per_day</th>\n",
       "      <th>growth_indicator</th>\n",
       "    </tr>\n",
       "  </thead>\n",
       "  <tbody>\n",
       "    <tr>\n",
       "      <th>0</th>\n",
       "      <td>00038f0484334ac047449166cfbbf6452b31c85c</td>\n",
       "      <td>310</td>\n",
       "      <td>2016-02-19 23:39:56.925</td>\n",
       "      <td>2016-05-08 14:38:37.264</td>\n",
       "      <td>31.591065</td>\n",
       "      <td>9793.23</td>\n",
       "      <td>78</td>\n",
       "      <td>3.974359</td>\n",
       "      <td>125.554231</td>\n",
       "      <td>258.60</td>\n",
       "    </tr>\n",
       "    <tr>\n",
       "      <th>1</th>\n",
       "      <td>0012a74e2bb1ab0073b2e18532e87474b6b7cfca</td>\n",
       "      <td>2</td>\n",
       "      <td>2016-11-04 14:50:09.257</td>\n",
       "      <td>2016-11-10 00:19:25.407</td>\n",
       "      <td>45.700000</td>\n",
       "      <td>91.40</td>\n",
       "      <td>5</td>\n",
       "      <td>0.400000</td>\n",
       "      <td>18.280000</td>\n",
       "      <td>67.35</td>\n",
       "    </tr>\n",
       "    <tr>\n",
       "      <th>2</th>\n",
       "      <td>001855810c25d8bb03210f8c0114de27da9cd76c</td>\n",
       "      <td>195</td>\n",
       "      <td>2016-06-11 15:20:47.121</td>\n",
       "      <td>2017-06-04 19:24:12.293</td>\n",
       "      <td>77.254821</td>\n",
       "      <td>15064.69</td>\n",
       "      <td>358</td>\n",
       "      <td>0.544693</td>\n",
       "      <td>42.080140</td>\n",
       "      <td>-156.35</td>\n",
       "    </tr>\n",
       "    <tr>\n",
       "      <th>3</th>\n",
       "      <td>001f3978fa7cad62f2e2ddfa155184a316282b0e</td>\n",
       "      <td>166</td>\n",
       "      <td>2015-11-15 19:57:58.304</td>\n",
       "      <td>2016-11-07 18:17:18.690</td>\n",
       "      <td>166.830361</td>\n",
       "      <td>27693.84</td>\n",
       "      <td>357</td>\n",
       "      <td>0.464986</td>\n",
       "      <td>77.573782</td>\n",
       "      <td>99.82</td>\n",
       "    </tr>\n",
       "    <tr>\n",
       "      <th>4</th>\n",
       "      <td>00317873b9dcbcff6759f7ec4225d8531520fdcb</td>\n",
       "      <td>2</td>\n",
       "      <td>2016-02-11 14:09:14.527</td>\n",
       "      <td>2016-02-13 17:00:29.935</td>\n",
       "      <td>40.290000</td>\n",
       "      <td>80.58</td>\n",
       "      <td>2</td>\n",
       "      <td>1.000000</td>\n",
       "      <td>40.290000</td>\n",
       "      <td>-260.96</td>\n",
       "    </tr>\n",
       "  </tbody>\n",
       "</table>\n",
       "</div>"
      ],
      "text/plain": [
       "                                       user  count        first_trans_time  \\\n",
       "0  00038f0484334ac047449166cfbbf6452b31c85c    310 2016-02-19 23:39:56.925   \n",
       "1  0012a74e2bb1ab0073b2e18532e87474b6b7cfca      2 2016-11-04 14:50:09.257   \n",
       "2  001855810c25d8bb03210f8c0114de27da9cd76c    195 2016-06-11 15:20:47.121   \n",
       "3  001f3978fa7cad62f2e2ddfa155184a316282b0e    166 2015-11-15 19:57:58.304   \n",
       "4  00317873b9dcbcff6759f7ec4225d8531520fdcb      2 2016-02-11 14:09:14.527   \n",
       "\n",
       "          last_trans_time  avg_trans_amt  tot_trans_amt  days_active  \\\n",
       "0 2016-05-08 14:38:37.264      31.591065        9793.23           78   \n",
       "1 2016-11-10 00:19:25.407      45.700000          91.40            5   \n",
       "2 2017-06-04 19:24:12.293      77.254821       15064.69          358   \n",
       "3 2016-11-07 18:17:18.690     166.830361       27693.84          357   \n",
       "4 2016-02-13 17:00:29.935      40.290000          80.58            2   \n",
       "\n",
       "   trans_per_day  amt_per_day  growth_indicator  \n",
       "0       3.974359   125.554231            258.60  \n",
       "1       0.400000    18.280000             67.35  \n",
       "2       0.544693    42.080140           -156.35  \n",
       "3       0.464986    77.573782             99.82  \n",
       "4       1.000000    40.290000           -260.96  "
      ]
     },
     "execution_count": 5,
     "metadata": {},
     "output_type": "execute_result"
    }
   ],
   "source": [
    "# create new dataframe on user-level\n",
    "user_data = pd.DataFrame(data['user'].unique(), columns=['user'])\n",
    "user_data['count'] = user_data['user'].map(data.groupby('user')['user'].size())\n",
    "user_data['first_trans_time'] = user_data['user'].map(data.groupby('user')['time'].min())\n",
    "user_data['last_trans_time'] = user_data['user'].map(data.groupby('user')['time'].max())\n",
    "user_data['avg_trans_amt'] = user_data['user'].map(data.groupby('user')['dollars'].mean())\n",
    "user_data['tot_trans_amt'] = user_data['user'].map(data.groupby('user')['dollars'].sum())\n",
    "user_data['days_active'] = (user_data['last_trans_time'] - user_data['first_trans_time']).dt.days   \n",
    "# transaction count and amount per day during period of activity... or total?\n",
    "user_data['trans_per_day'] = (user_data['count'] / user_data['days_active'])\n",
    "user_data['amt_per_day'] = (user_data['tot_trans_amt'] / user_data['days_active'])\n",
    "user_data['growth_indicator'] = user_data['user'].map(monthly_data.groupby('user')['diff'].sum())\n",
    "\n",
    "user_data.head()"
   ]
  },
  {
   "cell_type": "markdown",
   "metadata": {},
   "source": [
    "### Clustering"
   ]
  },
  {
   "cell_type": "markdown",
   "metadata": {},
   "source": [
    "By inspection, if user:\n",
    "- has been active less than half a year (given data already segmented by 1-year merchant activity, this implies the merchant has stopped using app before 1-year's end)\n",
    "- or has performed less than 10 total transactions of <$50 per day (eliminates infrequent users of small transactions)\n",
    "\n",
    "remove from clustering analysis as these are not high growth merchants. \n",
    "\n"
   ]
  },
  {
   "cell_type": "code",
   "execution_count": null,
   "metadata": {
    "collapsed": true
   },
   "outputs": [],
   "source": [
    "print len(user_data)\n",
    "print len(user_data.loc[user_data['days_active'] < 185])\n",
    "print len(user_data.loc[(user_data['count'] < 10) & (user_data['amt_per_day'] < 50)])\n",
    "\n",
    "cluster_data = user_data.loc[(user_data['days_active'] >= 200)]\n",
    "# TODO: fix \"or\" statement to include <$50 per day criteria\n",
    "cluster_data = cluster_data.loc[(user_data['count'] >= 10)]          \n",
    "print len(cluster_data)"
   ]
  },
  {
   "cell_type": "code",
   "execution_count": 7,
   "metadata": {
    "collapsed": false
   },
   "outputs": [
    {
     "data": {
      "image/png": "[encoded data removed]",
      "text/plain": [
       "<matplotlib.figure.Figure at 0x1133c48d0>"
      ]
     },
     "metadata": {},
     "output_type": "display_data"
    }
   ],
   "source": [
    "# dimension reduction: visualize in 2d space\n",
    "pca_data = cluster_data[['days_active', 'count', 'amt_per_day', 'growth_indicator']]\n",
    "pca = PCA(n_components=2).fit(pca_data)\n",
    "pca_2d = pca.transform(pca_data)\n",
    "\n",
    "plt.scatter(pca_2d[:,0], pca_2d[:,1])\n",
    "plt.show()"
   ]
  },
  {
   "cell_type": "code",
   "execution_count": 9,
   "metadata": {
    "collapsed": false
   },
   "outputs": [
    {
     "name": "stdout",
     "output_type": "stream",
     "text": [
      "[[ 3.13686858e+02  4.54061602e+02  1.55113586e+02  4.02233556e+02]\n",
      " [ 3.01500000e+02  5.15314286e+03  4.30962569e+03  1.30308351e+05]\n",
      " [ 2.85333333e+02  5.83333333e+01  9.61017988e+00 -1.92356257e+05]]\n"
     ]
    }
   ],
   "source": [
    "cluster_data = cluster_data[['days_active', 'count', 'amt_per_day', 'growth_indicator']]\n",
    "kmeans = KMeans(n_clusters=3).fit(cluster_data)\n",
    "labels = kmeans.labels_\n",
    "centroids = kmeans.cluster_centers_\n",
    "print centroids"
   ]
  },
  {
   "cell_type": "code",
   "execution_count": 12,
   "metadata": {
    "collapsed": false
   },
   "outputs": [
    {
     "data": {
      "image/png": "[encoded data removed]",
      "text/plain": [
       "<matplotlib.figure.Figure at 0x111858610>"
      ]
     },
     "metadata": {},
     "output_type": "display_data"
    }
   ],
   "source": [
    "for i in range(0, pca_2d.shape[0]):\n",
    "    if kmeans.labels_[i] == 1:\n",
    "        c1 = pl.scatter(pca_2d[i,0],pca_2d[i,1],c='r',marker='+')\n",
    "    elif kmeans.labels_[i] == 0:\n",
    "        c2 = pl.scatter(pca_2d[i,0],pca_2d[i,1],c='g',marker='.')\n",
    "    elif kmeans.labels_[i] == 2:\n",
    "        c3 = pl.scatter(pca_2d[i,0],pca_2d[i,1],c='b',marker='*')\n",
    "pl.legend([c1, c2, c3],['Cluster 1', 'Cluster 0','Cluster 2'])\n",
    "pl.title('K-means clusters of merchants into 3 segments')\n",
    "pl.show();"
   ]
  },
  {
   "cell_type": "code",
   "execution_count": 145,
   "metadata": {
    "collapsed": false
   },
   "outputs": [
    {
     "data": {
      "text/html": [
       "<div>\n",
       "<style scoped>\n",
       "    .dataframe tbody tr th:only-of-type {\n",
       "        vertical-align: middle;\n",
       "    }\n",
       "\n",
       "    .dataframe tbody tr th {\n",
       "        vertical-align: top;\n",
       "    }\n",
       "\n",
       "    .dataframe thead th {\n",
       "        text-align: right;\n",
       "    }\n",
       "</style>\n",
       "<table border=\"1\" class=\"dataframe\">\n",
       "  <thead>\n",
       "    <tr style=\"text-align: right;\">\n",
       "      <th></th>\n",
       "      <th>days_active</th>\n",
       "      <th>count</th>\n",
       "      <th>amt_per_day</th>\n",
       "      <th>growth_indicator</th>\n",
       "      <th>cluster</th>\n",
       "    </tr>\n",
       "  </thead>\n",
       "  <tbody>\n",
       "    <tr>\n",
       "      <th>439</th>\n",
       "      <td>349</td>\n",
       "      <td>3370</td>\n",
       "      <td>6327.482751</td>\n",
       "      <td>175149.26</td>\n",
       "      <td>1</td>\n",
       "    </tr>\n",
       "    <tr>\n",
       "      <th>1037</th>\n",
       "      <td>221</td>\n",
       "      <td>4212</td>\n",
       "      <td>9879.563620</td>\n",
       "      <td>126600.16</td>\n",
       "      <td>1</td>\n",
       "    </tr>\n",
       "    <tr>\n",
       "      <th>1199</th>\n",
       "      <td>364</td>\n",
       "      <td>32725</td>\n",
       "      <td>2578.830275</td>\n",
       "      <td>289008.64</td>\n",
       "      <td>1</td>\n",
       "    </tr>\n",
       "    <tr>\n",
       "      <th>1377</th>\n",
       "      <td>316</td>\n",
       "      <td>5761</td>\n",
       "      <td>8475.119399</td>\n",
       "      <td>226955.74</td>\n",
       "      <td>1</td>\n",
       "    </tr>\n",
       "    <tr>\n",
       "      <th>2743</th>\n",
       "      <td>225</td>\n",
       "      <td>622</td>\n",
       "      <td>4072.292000</td>\n",
       "      <td>94796.11</td>\n",
       "      <td>1</td>\n",
       "    </tr>\n",
       "    <tr>\n",
       "      <th>3949</th>\n",
       "      <td>253</td>\n",
       "      <td>3129</td>\n",
       "      <td>4502.337708</td>\n",
       "      <td>153869.50</td>\n",
       "      <td>1</td>\n",
       "    </tr>\n",
       "    <tr>\n",
       "      <th>4438</th>\n",
       "      <td>346</td>\n",
       "      <td>201</td>\n",
       "      <td>1048.817341</td>\n",
       "      <td>169261.15</td>\n",
       "      <td>1</td>\n",
       "    </tr>\n",
       "    <tr>\n",
       "      <th>5589</th>\n",
       "      <td>357</td>\n",
       "      <td>1033</td>\n",
       "      <td>7399.082829</td>\n",
       "      <td>87151.23</td>\n",
       "      <td>1</td>\n",
       "    </tr>\n",
       "    <tr>\n",
       "      <th>5974</th>\n",
       "      <td>293</td>\n",
       "      <td>1167</td>\n",
       "      <td>493.360546</td>\n",
       "      <td>106366.21</td>\n",
       "      <td>1</td>\n",
       "    </tr>\n",
       "    <tr>\n",
       "      <th>6839</th>\n",
       "      <td>203</td>\n",
       "      <td>14680</td>\n",
       "      <td>6085.194532</td>\n",
       "      <td>113844.03</td>\n",
       "      <td>1</td>\n",
       "    </tr>\n",
       "  </tbody>\n",
       "</table>\n",
       "</div>"
      ],
      "text/plain": [
       "      days_active  count  amt_per_day  growth_indicator  cluster\n",
       "439           349   3370  6327.482751         175149.26        1\n",
       "1037          221   4212  9879.563620         126600.16        1\n",
       "1199          364  32725  2578.830275         289008.64        1\n",
       "1377          316   5761  8475.119399         226955.74        1\n",
       "2743          225    622  4072.292000          94796.11        1\n",
       "3949          253   3129  4502.337708         153869.50        1\n",
       "4438          346    201  1048.817341         169261.15        1\n",
       "5589          357   1033  7399.082829          87151.23        1\n",
       "5974          293   1167   493.360546         106366.21        1\n",
       "6839          203  14680  6085.194532         113844.03        1"
      ]
     },
     "execution_count": 145,
     "metadata": {},
     "output_type": "execute_result"
    }
   ],
   "source": [
    "# cluster 1 \n",
    "cluster_data['cluster'] = kmeans.labels_      \n",
    "cluster_data.loc[cluster_data['cluster'] == 1]"
   ]
  },
  {
   "cell_type": "code",
   "execution_count": 192,
   "metadata": {
    "collapsed": false
   },
   "outputs": [
    {
     "data": {
      "text/plain": [
       "Int64Index([439, 1037, 1199, 1377, 2743, 3949, 4438, 5589, 5974, 6839], dtype='int64')"
      ]
     },
     "execution_count": 192,
     "metadata": {},
     "output_type": "execute_result"
    }
   ],
   "source": [
    "cluster1_index = cluster_data.loc[cluster_data['cluster'] == 1].index\n",
    "cluster1_data = monthly_data.loc[monthly_data.index.isin(cluster1_index)]\n",
    "cluster1_data[:10]\n",
    "\n",
    "cluster1_data.index"
   ]
  },
  {
   "cell_type": "code",
   "execution_count": 197,
   "metadata": {
    "collapsed": true
   },
   "outputs": [],
   "source": [
    "# TODO\n",
    "\n",
    "# cluster without PCA as well, which reduces algorith's ability to cluster\n",
    "# visually inspect cluster 1 'high growth' users to ensure features indicate high growth\n",
    "# test different groupings of features  \n",
    "# iterate on K clusters (use elbow plot to determine optimal clusters) / can include additional 'high growth' users\n",
    "# predict: train on half of the dataset and predict on test/validation set\n",
    "# cross-validation: consider training on user-level (first months of user's data) or transaction-level (portion of transaction data)"
   ]
  },
  {
   "cell_type": "markdown",
   "metadata": {
    "collapsed": true
   },
   "source": [
    "### Summary\n",
    "\n",
    "In my analysis, I have created a handful of features that I believe could be useful in training a model for selecting high priority users, such as days active, volume and amount of transactions, and also a growth indicator. These meaningful features hopefully capture the variability of the data which will be essential for the algorithm to select naturally-occurring groups. My thinking around the growth indicator is that by grouping volume and amount of transactions by a time period (say, month), the derivative for each month period can be calculated and summed up over an entire year. If the sum is greater than zero, then this is an indicator of some degree of growth.\n",
    "\n",
    "After feature engineering, a k-means clustering analysis was performed on the input data and the selected features to segment (or cluster) high growth merchants from other categories of merchants. Dimensional reduction using PCA was performed to build a 2d representation of the data; however, fitting 2D data reduced by PCA reduces K-means algorithm's ability to cluster the groups correctly since the PCA preprocessing destroys some information. "
   ]
  }
 ],
 "metadata": {
  "kernelspec": {
   "display_name": "Python 2",
   "language": "python",
   "name": "python2"
  },
  "language_info": {
   "codemirror_mode": {
    "name": "ipython",
    "version": 2
   },
   "file_extension": ".py",
   "mimetype": "text/x-python",
   "name": "python",
   "nbconvert_exporter": "python",
   "pygments_lexer": "ipython2",
   "version": "2.7.13"
  }
 },
 "nbformat": 4,
 "nbformat_minor": 0
}
